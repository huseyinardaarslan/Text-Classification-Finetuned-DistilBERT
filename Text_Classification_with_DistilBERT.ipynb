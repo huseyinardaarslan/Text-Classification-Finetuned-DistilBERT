{
  "nbformat": 4,
  "nbformat_minor": 0,
  "metadata": {
    "colab": {
      "provenance": [],
      "gpuType": "T4",
      "authorship_tag": "ABX9TyOdcb+j5qrMBW/g7hO0ndhv",
      "include_colab_link": true
    },
    "kernelspec": {
      "name": "python3",
      "display_name": "Python 3"
    },
    "language_info": {
      "name": "python"
    },
    "accelerator": "GPU",
    "widgets": {
      "application/vnd.jupyter.widget-state+json": {
        "b7f4f10cfb8d40c3b0f3c17802b5e57b": {
          "model_module": "@jupyter-widgets/controls",
          "model_name": "HBoxModel",
          "model_module_version": "1.5.0",
          "state": {
            "_dom_classes": [],
            "_model_module": "@jupyter-widgets/controls",
            "_model_module_version": "1.5.0",
            "_model_name": "HBoxModel",
            "_view_count": null,
            "_view_module": "@jupyter-widgets/controls",
            "_view_module_version": "1.5.0",
            "_view_name": "HBoxView",
            "box_style": "",
            "children": [
              "IPY_MODEL_f096eca2dd9649858abc4e7488ae3aa0",
              "IPY_MODEL_a6cd152eba654c04ae9274bb433bc7f2",
              "IPY_MODEL_219fcd7873554354be324ca79338e0e0"
            ],
            "layout": "IPY_MODEL_4c42f5de6b7c49e7adf119f6af57f422"
          }
        },
        "f096eca2dd9649858abc4e7488ae3aa0": {
          "model_module": "@jupyter-widgets/controls",
          "model_name": "HTMLModel",
          "model_module_version": "1.5.0",
          "state": {
            "_dom_classes": [],
            "_model_module": "@jupyter-widgets/controls",
            "_model_module_version": "1.5.0",
            "_model_name": "HTMLModel",
            "_view_count": null,
            "_view_module": "@jupyter-widgets/controls",
            "_view_module_version": "1.5.0",
            "_view_name": "HTMLView",
            "description": "",
            "description_tooltip": null,
            "layout": "IPY_MODEL_9c2e94de87be4a70bf6b70cf31aef43b",
            "placeholder": "​",
            "style": "IPY_MODEL_00ca059e23fc43b3ba80dadb2a4f521b",
            "value": "Map: 100%"
          }
        },
        "a6cd152eba654c04ae9274bb433bc7f2": {
          "model_module": "@jupyter-widgets/controls",
          "model_name": "FloatProgressModel",
          "model_module_version": "1.5.0",
          "state": {
            "_dom_classes": [],
            "_model_module": "@jupyter-widgets/controls",
            "_model_module_version": "1.5.0",
            "_model_name": "FloatProgressModel",
            "_view_count": null,
            "_view_module": "@jupyter-widgets/controls",
            "_view_module_version": "1.5.0",
            "_view_name": "ProgressView",
            "bar_style": "success",
            "description": "",
            "description_tooltip": null,
            "layout": "IPY_MODEL_7c9e503d83d24891bc3a6c37308b1cff",
            "max": 1200,
            "min": 0,
            "orientation": "horizontal",
            "style": "IPY_MODEL_136ff9b737db4c8a81588788461d0fbb",
            "value": 1200
          }
        },
        "219fcd7873554354be324ca79338e0e0": {
          "model_module": "@jupyter-widgets/controls",
          "model_name": "HTMLModel",
          "model_module_version": "1.5.0",
          "state": {
            "_dom_classes": [],
            "_model_module": "@jupyter-widgets/controls",
            "_model_module_version": "1.5.0",
            "_model_name": "HTMLModel",
            "_view_count": null,
            "_view_module": "@jupyter-widgets/controls",
            "_view_module_version": "1.5.0",
            "_view_name": "HTMLView",
            "description": "",
            "description_tooltip": null,
            "layout": "IPY_MODEL_412a755e018b45f8973deed931559a7c",
            "placeholder": "​",
            "style": "IPY_MODEL_84c7d31c501f4d3dbd1e0f7176fba8fc",
            "value": " 1200/1200 [00:00&lt;00:00, 2868.54 examples/s]"
          }
        },
        "4c42f5de6b7c49e7adf119f6af57f422": {
          "model_module": "@jupyter-widgets/base",
          "model_name": "LayoutModel",
          "model_module_version": "1.2.0",
          "state": {
            "_model_module": "@jupyter-widgets/base",
            "_model_module_version": "1.2.0",
            "_model_name": "LayoutModel",
            "_view_count": null,
            "_view_module": "@jupyter-widgets/base",
            "_view_module_version": "1.2.0",
            "_view_name": "LayoutView",
            "align_content": null,
            "align_items": null,
            "align_self": null,
            "border": null,
            "bottom": null,
            "display": null,
            "flex": null,
            "flex_flow": null,
            "grid_area": null,
            "grid_auto_columns": null,
            "grid_auto_flow": null,
            "grid_auto_rows": null,
            "grid_column": null,
            "grid_gap": null,
            "grid_row": null,
            "grid_template_areas": null,
            "grid_template_columns": null,
            "grid_template_rows": null,
            "height": null,
            "justify_content": null,
            "justify_items": null,
            "left": null,
            "margin": null,
            "max_height": null,
            "max_width": null,
            "min_height": null,
            "min_width": null,
            "object_fit": null,
            "object_position": null,
            "order": null,
            "overflow": null,
            "overflow_x": null,
            "overflow_y": null,
            "padding": null,
            "right": null,
            "top": null,
            "visibility": null,
            "width": null
          }
        },
        "9c2e94de87be4a70bf6b70cf31aef43b": {
          "model_module": "@jupyter-widgets/base",
          "model_name": "LayoutModel",
          "model_module_version": "1.2.0",
          "state": {
            "_model_module": "@jupyter-widgets/base",
            "_model_module_version": "1.2.0",
            "_model_name": "LayoutModel",
            "_view_count": null,
            "_view_module": "@jupyter-widgets/base",
            "_view_module_version": "1.2.0",
            "_view_name": "LayoutView",
            "align_content": null,
            "align_items": null,
            "align_self": null,
            "border": null,
            "bottom": null,
            "display": null,
            "flex": null,
            "flex_flow": null,
            "grid_area": null,
            "grid_auto_columns": null,
            "grid_auto_flow": null,
            "grid_auto_rows": null,
            "grid_column": null,
            "grid_gap": null,
            "grid_row": null,
            "grid_template_areas": null,
            "grid_template_columns": null,
            "grid_template_rows": null,
            "height": null,
            "justify_content": null,
            "justify_items": null,
            "left": null,
            "margin": null,
            "max_height": null,
            "max_width": null,
            "min_height": null,
            "min_width": null,
            "object_fit": null,
            "object_position": null,
            "order": null,
            "overflow": null,
            "overflow_x": null,
            "overflow_y": null,
            "padding": null,
            "right": null,
            "top": null,
            "visibility": null,
            "width": null
          }
        },
        "00ca059e23fc43b3ba80dadb2a4f521b": {
          "model_module": "@jupyter-widgets/controls",
          "model_name": "DescriptionStyleModel",
          "model_module_version": "1.5.0",
          "state": {
            "_model_module": "@jupyter-widgets/controls",
            "_model_module_version": "1.5.0",
            "_model_name": "DescriptionStyleModel",
            "_view_count": null,
            "_view_module": "@jupyter-widgets/base",
            "_view_module_version": "1.2.0",
            "_view_name": "StyleView",
            "description_width": ""
          }
        },
        "7c9e503d83d24891bc3a6c37308b1cff": {
          "model_module": "@jupyter-widgets/base",
          "model_name": "LayoutModel",
          "model_module_version": "1.2.0",
          "state": {
            "_model_module": "@jupyter-widgets/base",
            "_model_module_version": "1.2.0",
            "_model_name": "LayoutModel",
            "_view_count": null,
            "_view_module": "@jupyter-widgets/base",
            "_view_module_version": "1.2.0",
            "_view_name": "LayoutView",
            "align_content": null,
            "align_items": null,
            "align_self": null,
            "border": null,
            "bottom": null,
            "display": null,
            "flex": null,
            "flex_flow": null,
            "grid_area": null,
            "grid_auto_columns": null,
            "grid_auto_flow": null,
            "grid_auto_rows": null,
            "grid_column": null,
            "grid_gap": null,
            "grid_row": null,
            "grid_template_areas": null,
            "grid_template_columns": null,
            "grid_template_rows": null,
            "height": null,
            "justify_content": null,
            "justify_items": null,
            "left": null,
            "margin": null,
            "max_height": null,
            "max_width": null,
            "min_height": null,
            "min_width": null,
            "object_fit": null,
            "object_position": null,
            "order": null,
            "overflow": null,
            "overflow_x": null,
            "overflow_y": null,
            "padding": null,
            "right": null,
            "top": null,
            "visibility": null,
            "width": null
          }
        },
        "136ff9b737db4c8a81588788461d0fbb": {
          "model_module": "@jupyter-widgets/controls",
          "model_name": "ProgressStyleModel",
          "model_module_version": "1.5.0",
          "state": {
            "_model_module": "@jupyter-widgets/controls",
            "_model_module_version": "1.5.0",
            "_model_name": "ProgressStyleModel",
            "_view_count": null,
            "_view_module": "@jupyter-widgets/base",
            "_view_module_version": "1.2.0",
            "_view_name": "StyleView",
            "bar_color": null,
            "description_width": ""
          }
        },
        "412a755e018b45f8973deed931559a7c": {
          "model_module": "@jupyter-widgets/base",
          "model_name": "LayoutModel",
          "model_module_version": "1.2.0",
          "state": {
            "_model_module": "@jupyter-widgets/base",
            "_model_module_version": "1.2.0",
            "_model_name": "LayoutModel",
            "_view_count": null,
            "_view_module": "@jupyter-widgets/base",
            "_view_module_version": "1.2.0",
            "_view_name": "LayoutView",
            "align_content": null,
            "align_items": null,
            "align_self": null,
            "border": null,
            "bottom": null,
            "display": null,
            "flex": null,
            "flex_flow": null,
            "grid_area": null,
            "grid_auto_columns": null,
            "grid_auto_flow": null,
            "grid_auto_rows": null,
            "grid_column": null,
            "grid_gap": null,
            "grid_row": null,
            "grid_template_areas": null,
            "grid_template_columns": null,
            "grid_template_rows": null,
            "height": null,
            "justify_content": null,
            "justify_items": null,
            "left": null,
            "margin": null,
            "max_height": null,
            "max_width": null,
            "min_height": null,
            "min_width": null,
            "object_fit": null,
            "object_position": null,
            "order": null,
            "overflow": null,
            "overflow_x": null,
            "overflow_y": null,
            "padding": null,
            "right": null,
            "top": null,
            "visibility": null,
            "width": null
          }
        },
        "84c7d31c501f4d3dbd1e0f7176fba8fc": {
          "model_module": "@jupyter-widgets/controls",
          "model_name": "DescriptionStyleModel",
          "model_module_version": "1.5.0",
          "state": {
            "_model_module": "@jupyter-widgets/controls",
            "_model_module_version": "1.5.0",
            "_model_name": "DescriptionStyleModel",
            "_view_count": null,
            "_view_module": "@jupyter-widgets/base",
            "_view_module_version": "1.2.0",
            "_view_name": "StyleView",
            "description_width": ""
          }
        }
      }
    }
  },
  "cells": [
    {
      "cell_type": "markdown",
      "metadata": {
        "id": "view-in-github",
        "colab_type": "text"
      },
      "source": [
        "<a href=\"https://colab.research.google.com/github/huseyinardaarslan/Text-Classification-Finetuned-DistilBERT/blob/main/Text_Classification_with_DistilBERT.ipynb\" target=\"_parent\"><img src=\"https://colab.research.google.com/assets/colab-badge.svg\" alt=\"Open In Colab\"/></a>"
      ]
    },
    {
      "cell_type": "markdown",
      "source": [
        "# Text Classification with DistilBERT"
      ],
      "metadata": {
        "id": "WwVFj2zr09ZE"
      }
    },
    {
      "cell_type": "code",
      "source": [
        "# Part 1: Importing Libraries\n",
        "import pandas as pd\n",
        "import matplotlib.pyplot as plt\n",
        "import seaborn as sns\n",
        "from datasets import load_dataset\n",
        "from transformers import AutoTokenizer, AutoModelForSequenceClassification, Trainer, TrainingArguments\n",
        "import numpy as np\n",
        "from sklearn.metrics import accuracy_score, precision_recall_fscore_support\n",
        "import torch\n",
        "\n",
        "# Device setting\n",
        "device = torch.device(\"cuda\" if torch.cuda.is_available() else \"cpu\")\n",
        "print(f\"Using device: {device}\")"
      ],
      "metadata": {
        "id": "1bC3JfaEkjHJ",
        "colab": {
          "base_uri": "https://localhost:8080/"
        },
        "outputId": "151d5b3b-c64a-4c0a-f509-0b181bde6862"
      },
      "execution_count": 26,
      "outputs": [
        {
          "output_type": "stream",
          "name": "stdout",
          "text": [
            "Using device: cuda\n"
          ]
        }
      ]
    },
    {
      "cell_type": "code",
      "source": [
        "# Part 2: Load and display the dataset (EDA)\n",
        "from datasets import load_dataset\n",
        "import matplotlib.pyplot as plt\n",
        "import seaborn as sns\n",
        "\n",
        "# Load the AG News dataset\n",
        "dataset = load_dataset(\"ag_news\", split='train[:5%]')\n",
        "train_test_split = dataset.train_test_split(test_size=0.2)\n",
        "train_dataset = train_test_split['train']\n",
        "test_dataset = train_test_split['test']\n",
        "\n",
        "# Displaying some samples of the dataset\n",
        "print(\"Train Dataset Sample:\")\n",
        "print(train_dataset[0])\n",
        "\n",
        "print(\"Test Dataset Sample:\")\n",
        "print(test_dataset[0])\n",
        "\n",
        "# Visualize the distribution of labels\n",
        "label_map = {0: \"World\", 1: \"Sports\", 2: \"Business\", 3: \"Science/Technology\"}\n",
        "train_labels = [label_map[label] for label in train_dataset['label']]\n",
        "\n",
        "# Plot label distribution\n",
        "plt.figure(figsize=(8, 6))\n",
        "sns.countplot(x=train_labels, palette='Set2')\n",
        "plt.title(\"Label Distribution in Train Dataset\")\n",
        "plt.xlabel(\"Labels\")\n",
        "plt.ylabel(\"Count\")\n",
        "plt.show()\n"
      ],
      "metadata": {
        "colab": {
          "base_uri": "https://localhost:8080/",
          "height": 873
        },
        "id": "SRp04FxfkcwR",
        "outputId": "a46dfef6-96b4-40d6-f573-19bdad169c47"
      },
      "execution_count": 27,
      "outputs": [
        {
          "output_type": "stream",
          "name": "stdout",
          "text": [
            "Train Dataset Sample:\n",
            "{'text': \"Thorpedo Sinks Phelps' Shot at Spitz Mark (AP) AP - The kid couldn't catch the Thorpedo  #151; and he won't be catching Mark Spitz, either. Michael Phelps' quest for seven gold medals ended after just three events, doomed by another bronze Monday night in the most anticipated race at the Olympic pool  #151; the head-to-head showdown with Australia's Ian Thorpe in the 200-meter freestyle.\", 'label': 1}\n",
            "Test Dataset Sample:\n",
            "{'text': 'Bombings Hit Kathmandu, as Blockade Starts to Affect Prices The Nepalese capital, Kathmandu, has been hit by bomb blasts on the third day of a blockade called by Maoist rebels. Nepalese business leaders are calling for a cease-fire between the government and the rebels. ', 'label': 0}\n"
          ]
        },
        {
          "output_type": "stream",
          "name": "stderr",
          "text": [
            "<ipython-input-27-704b12dc5e04>:25: FutureWarning: \n",
            "\n",
            "Passing `palette` without assigning `hue` is deprecated and will be removed in v0.14.0. Assign the `x` variable to `hue` and set `legend=False` for the same effect.\n",
            "\n",
            "  sns.countplot(x=train_labels, palette='Set2')\n",
            "/usr/local/lib/python3.10/dist-packages/seaborn/_base.py:949: FutureWarning: When grouping with a length-1 list-like, you will need to pass a length-1 tuple to get_group in a future version of pandas. Pass `(name,)` instead of `name` to silence this warning.\n",
            "  data_subset = grouped_data.get_group(pd_key)\n",
            "/usr/local/lib/python3.10/dist-packages/seaborn/_base.py:949: FutureWarning: When grouping with a length-1 list-like, you will need to pass a length-1 tuple to get_group in a future version of pandas. Pass `(name,)` instead of `name` to silence this warning.\n",
            "  data_subset = grouped_data.get_group(pd_key)\n",
            "/usr/local/lib/python3.10/dist-packages/seaborn/_base.py:949: FutureWarning: When grouping with a length-1 list-like, you will need to pass a length-1 tuple to get_group in a future version of pandas. Pass `(name,)` instead of `name` to silence this warning.\n",
            "  data_subset = grouped_data.get_group(pd_key)\n",
            "/usr/local/lib/python3.10/dist-packages/seaborn/_base.py:949: FutureWarning: When grouping with a length-1 list-like, you will need to pass a length-1 tuple to get_group in a future version of pandas. Pass `(name,)` instead of `name` to silence this warning.\n",
            "  data_subset = grouped_data.get_group(pd_key)\n"
          ]
        },
        {
          "output_type": "display_data",
          "data": {
            "text/plain": [
              "<Figure size 800x600 with 1 Axes>"
            ],
            "image/png": "[encoded data removed]"
          },
          "metadata": {}
        }
      ]
    },
    {
      "cell_type": "code",
      "source": [
        "# Part 3: Load distilbert-base-uncased tokenizer and model\n",
        "model_name = \"distilbert-base-uncased\"\n",
        "tokenizer = AutoTokenizer.from_pretrained(model_name)\n",
        "model = AutoModelForSequenceClassification.from_pretrained(model_name, num_labels=4)\n"
      ],
      "metadata": {
        "colab": {
          "base_uri": "https://localhost:8080/"
        },
        "id": "jegOyKD8kmwo",
        "outputId": "364d7893-1b3a-4be6-ea8f-0e92d3569e91"
      },
      "execution_count": 28,
      "outputs": [
        {
          "output_type": "stream",
          "name": "stderr",
          "text": [
            "/usr/local/lib/python3.10/dist-packages/transformers/tokenization_utils_base.py:1601: FutureWarning: `clean_up_tokenization_spaces` was not set. It will be set to `True` by default. This behavior will be depracted in transformers v4.45, and will be then set to `False` by default. For more details check this issue: https://github.com/huggingface/transformers/issues/31884\n",
            "  warnings.warn(\n",
            "Some weights of DistilBertForSequenceClassification were not initialized from the model checkpoint at distilbert-base-uncased and are newly initialized: ['classifier.bias', 'classifier.weight', 'pre_classifier.bias', 'pre_classifier.weight']\n",
            "You should probably TRAIN this model on a down-stream task to be able to use it for predictions and inference.\n"
          ]
        }
      ]
    },
    {
      "cell_type": "code",
      "source": [
        "# Part 4: Tokenization function\n",
        "def tokenize_function(examples):\n",
        "    return tokenizer(examples['text'], padding='max_length', truncation=True)\n",
        "\n",
        "# Tokenize the dataset\n",
        "tokenized_train = train_dataset.map(tokenize_function, batched=True)\n",
        "tokenized_test = test_dataset.map(tokenize_function, batched=True)\n",
        "\n",
        "# Set to PyTorch format\n",
        "tokenized_train.set_format(\"torch\")\n",
        "tokenized_test.set_format(\"torch\")\n"
      ],
      "metadata": {
        "colab": {
          "base_uri": "https://localhost:8080/",
          "height": 49,
          "referenced_widgets": [
            "b7f4f10cfb8d40c3b0f3c17802b5e57b",
            "f096eca2dd9649858abc4e7488ae3aa0",
            "a6cd152eba654c04ae9274bb433bc7f2",
            "219fcd7873554354be324ca79338e0e0",
            "4c42f5de6b7c49e7adf119f6af57f422",
            "9c2e94de87be4a70bf6b70cf31aef43b",
            "00ca059e23fc43b3ba80dadb2a4f521b",
            "7c9e503d83d24891bc3a6c37308b1cff",
            "136ff9b737db4c8a81588788461d0fbb",
            "412a755e018b45f8973deed931559a7c",
            "84c7d31c501f4d3dbd1e0f7176fba8fc"
          ]
        },
        "id": "Lx57O_0wkrc6",
        "outputId": "320b37f8-8b86-4c80-d094-4666a6974c7c"
      },
      "execution_count": 29,
      "outputs": [
        {
          "output_type": "display_data",
          "data": {
            "text/plain": [
              "Map:   0%|          | 0/1200 [00:00<?, ? examples/s]"
            ],
            "application/vnd.jupyter.widget-view+json": {
              "version_major": 2,
              "version_minor": 0,
              "model_id": "b7f4f10cfb8d40c3b0f3c17802b5e57b"
            }
          },
          "metadata": {}
        }
      ]
    },
    {
      "cell_type": "code",
      "source": [
        "# Part 5: Prepare for model training and evaluation\n",
        "def compute_metrics(pred):\n",
        "    labels = pred.label_ids\n",
        "    preds = np.argmax(pred.predictions, axis=1)\n",
        "    precision, recall, f1, _ = precision_recall_fscore_support(labels, preds, average='weighted')\n",
        "    acc = accuracy_score(labels, preds)\n",
        "    return {\n",
        "        'accuracy': acc,\n",
        "        'f1': f1,\n",
        "        'precision': precision,\n",
        "        'recall': recall\n",
        "    }\n",
        "\n",
        "training_args = TrainingArguments(\n",
        "    output_dir=\"./results\",\n",
        "    eval_strategy=\"epoch\",\n",
        "    per_device_train_batch_size=16,\n",
        "    per_device_eval_batch_size=16,\n",
        "    num_train_epochs=2,\n",
        "    weight_decay=0.01,\n",
        "    logging_dir='./logs',\n",
        "    logging_steps=10,\n",
        "    save_total_limit=2,\n",
        "    load_best_model_at_end=True,\n",
        "    metric_for_best_model=\"accuracy\",\n",
        "    save_strategy=\"epoch\",\n",
        ")\n",
        "\n",
        "trainer = Trainer(\n",
        "    model=model,\n",
        "    args=training_args,\n",
        "    train_dataset=tokenized_train,\n",
        "    eval_dataset=tokenized_test,\n",
        "    tokenizer=tokenizer,\n",
        "    compute_metrics=compute_metrics\n",
        ")\n"
      ],
      "metadata": {
        "id": "bShRcT1Mksst"
      },
      "execution_count": 37,
      "outputs": []
    },
    {
      "cell_type": "code",
      "source": [
        "# Part 6: Train the model\n",
        "trainer.train()\n"
      ],
      "metadata": {
        "colab": {
          "base_uri": "https://localhost:8080/",
          "height": 171
        },
        "id": "oL0oYhRGpiO-",
        "outputId": "c2e5553b-6b75-4b8f-a22a-5e42171ec525"
      },
      "execution_count": 31,
      "outputs": [
        {
          "output_type": "display_data",
          "data": {
            "text/plain": [
              "<IPython.core.display.HTML object>"
            ],
            "text/html": [
              "\n",
              "    <div>\n",
              "      \n",
              "      <progress value='600' max='600' style='width:300px; height:20px; vertical-align: middle;'></progress>\n",
              "      [600/600 08:35, Epoch 2/2]\n",
              "    </div>\n",
              "    <table border=\"1\" class=\"dataframe\">\n",
              "  <thead>\n",
              " <tr style=\"text-align: left;\">\n",
              "      <th>Epoch</th>\n",
              "      <th>Training Loss</th>\n",
              "      <th>Validation Loss</th>\n",
              "      <th>Accuracy</th>\n",
              "      <th>F1</th>\n",
              "      <th>Precision</th>\n",
              "      <th>Recall</th>\n",
              "    </tr>\n",
              "  </thead>\n",
              "  <tbody>\n",
              "    <tr>\n",
              "      <td>1</td>\n",
              "      <td>0.385100</td>\n",
              "      <td>0.266880</td>\n",
              "      <td>0.909167</td>\n",
              "      <td>0.908490</td>\n",
              "      <td>0.908426</td>\n",
              "      <td>0.909167</td>\n",
              "    </tr>\n",
              "    <tr>\n",
              "      <td>2</td>\n",
              "      <td>0.174100</td>\n",
              "      <td>0.242199</td>\n",
              "      <td>0.925000</td>\n",
              "      <td>0.924881</td>\n",
              "      <td>0.925122</td>\n",
              "      <td>0.925000</td>\n",
              "    </tr>\n",
              "  </tbody>\n",
              "</table><p>"
            ]
          },
          "metadata": {}
        },
        {
          "output_type": "execute_result",
          "data": {
            "text/plain": [
              "TrainOutput(global_step=600, training_loss=0.3280277363459269, metrics={'train_runtime': 515.849, 'train_samples_per_second': 18.61, 'train_steps_per_second': 1.163, 'total_flos': 1271732384563200.0, 'train_loss': 0.3280277363459269, 'epoch': 2.0})"
            ]
          },
          "metadata": {},
          "execution_count": 31
        }
      ]
    },
    {
      "cell_type": "code",
      "source": [
        "# Part 7: Save the fine-tuned model\n",
        "model.save_pretrained(\"./finetuned_distilbert\")\n",
        "tokenizer.save_pretrained(\"./finetuned_distilbert\")\n",
        "print(\"Fine-tuned model and tokenizer saved.\")"
      ],
      "metadata": {
        "colab": {
          "base_uri": "https://localhost:8080/"
        },
        "id": "YzJ0V-Fmpleo",
        "outputId": "7eeceac6-2cac-4a8f-cdd1-f35659dc0159"
      },
      "execution_count": 32,
      "outputs": [
        {
          "output_type": "stream",
          "name": "stdout",
          "text": [
            "Fine-tuned model and tokenizer saved.\n"
          ]
        }
      ]
    },
    {
      "cell_type": "code",
      "source": [
        "# Part 8: Compare Fine-Tuned Model with Pretrained Model\n",
        "# Load the pretrained model without fine-tuning\n",
        "pretrained_model = AutoModelForSequenceClassification.from_pretrained(model_name, num_labels=4)\n",
        "\n",
        "# Initialize a new trainer for the pretrained model\n",
        "pretrained_trainer = Trainer(\n",
        "    model=pretrained_model,\n",
        "    args=training_args,\n",
        "    eval_dataset=tokenized_test,\n",
        "    tokenizer=tokenizer,\n",
        "    compute_metrics=compute_metrics\n",
        ")\n",
        "\n",
        "# Evaluate the pretrained model on the test dataset\n",
        "pretrained_eval_result = pretrained_trainer.evaluate()\n",
        "print(\"\\n--- Pretrained Model Performance ---\")\n",
        "print(f\"Test Accuracy: {pretrained_eval_result['eval_accuracy']}\")\n",
        "print(f\"Test F1: {pretrained_eval_result['eval_f1']}\")\n",
        "print(f\"Test Precision: {pretrained_eval_result['eval_precision']}\")\n",
        "print(f\"Test Recall: {pretrained_eval_result['eval_recall']}\")\n",
        "\n",
        "# Evaluate the fine-tuned model again on the test dataset\n",
        "finetuned_eval_result = trainer.evaluate()\n",
        "print(\"\\n--- Fine-Tuned Model Performance ---\")\n",
        "print(f\"Test Accuracy: {finetuned_eval_result['eval_accuracy']}\")\n",
        "print(f\"Test F1: {finetuned_eval_result['eval_f1']}\")\n",
        "print(f\"Test Precision: {finetuned_eval_result['eval_precision']}\")\n",
        "print(f\"Test Recall: {finetuned_eval_result['eval_recall']}\")\n",
        "\n",
        "# Summary of the comparison\n",
        "print(\"\\n--- Model Performance Comparison ---\")\n",
        "improvements = {\n",
        "    'Accuracy Improvement': finetuned_eval_result['eval_accuracy'] - pretrained_eval_result['eval_accuracy'],\n",
        "    'F1 Score Improvement': finetuned_eval_result['eval_f1'] - pretrained_eval_result['eval_f1'],\n",
        "    'Precision Improvement': finetuned_eval_result['eval_precision'] - pretrained_eval_result['eval_precision'],\n",
        "    'Recall Improvement': finetuned_eval_result['eval_recall'] - pretrained_eval_result['eval_recall']\n",
        "}\n",
        "\n",
        "for key, value in improvements.items():\n",
        "    print(f\"{key}: {value}\")\n"
      ],
      "metadata": {
        "colab": {
          "base_uri": "https://localhost:8080/",
          "height": 451
        },
        "id": "fiHog6_nptrq",
        "outputId": "53a071d0-caf0-4c1c-ebe9-95651beb3107"
      },
      "execution_count": 33,
      "outputs": [
        {
          "output_type": "stream",
          "name": "stderr",
          "text": [
            "Some weights of DistilBertForSequenceClassification were not initialized from the model checkpoint at distilbert-base-uncased and are newly initialized: ['classifier.bias', 'classifier.weight', 'pre_classifier.bias', 'pre_classifier.weight']\n",
            "You should probably TRAIN this model on a down-stream task to be able to use it for predictions and inference.\n"
          ]
        },
        {
          "output_type": "display_data",
          "data": {
            "text/plain": [
              "<IPython.core.display.HTML object>"
            ],
            "text/html": [
              "\n",
              "    <div>\n",
              "      \n",
              "      <progress value='75' max='75' style='width:300px; height:20px; vertical-align: middle;'></progress>\n",
              "      [75/75 00:20]\n",
              "    </div>\n",
              "    "
            ]
          },
          "metadata": {}
        },
        {
          "output_type": "stream",
          "name": "stderr",
          "text": [
            "/usr/local/lib/python3.10/dist-packages/sklearn/metrics/_classification.py:1531: UndefinedMetricWarning: Precision is ill-defined and being set to 0.0 in labels with no predicted samples. Use `zero_division` parameter to control this behavior.\n",
            "  _warn_prf(average, modifier, f\"{metric.capitalize()} is\", len(result))\n"
          ]
        },
        {
          "output_type": "stream",
          "name": "stdout",
          "text": [
            "\n",
            "--- Pretrained Model Performance ---\n",
            "Test Accuracy: 0.25666666666666665\n",
            "Test F1: 0.10505426356589148\n",
            "Test Precision: 0.0660428849902534\n",
            "Test Recall: 0.25666666666666665\n"
          ]
        },
        {
          "output_type": "display_data",
          "data": {
            "text/plain": [
              "<IPython.core.display.HTML object>"
            ],
            "text/html": [
              "\n",
              "    <div>\n",
              "      \n",
              "      <progress value='75' max='75' style='width:300px; height:20px; vertical-align: middle;'></progress>\n",
              "      [75/75 00:20]\n",
              "    </div>\n",
              "    "
            ]
          },
          "metadata": {}
        },
        {
          "output_type": "stream",
          "name": "stdout",
          "text": [
            "\n",
            "--- Fine-Tuned Model Performance ---\n",
            "Test Accuracy: 0.925\n",
            "Test F1: 0.9248807212998247\n",
            "Test Precision: 0.9251223334635534\n",
            "Test Recall: 0.925\n",
            "\n",
            "--- Model Performance Comparison ---\n",
            "Accuracy Improvement: 0.6683333333333334\n",
            "F1 Score Improvement: 0.8198264577339331\n",
            "Precision Improvement: 0.8590794484733\n",
            "Recall Improvement: 0.6683333333333334\n"
          ]
        }
      ]
    },
    {
      "cell_type": "code",
      "source": [
        "# Part 9: Visualize the Model Performance Comparison\n",
        "labels = list(improvements.keys())\n",
        "values = list(improvements.values())\n",
        "\n",
        "plt.figure(figsize=(10, 6))\n",
        "sns.barplot(x=labels, y=values, palette='viridis')\n",
        "plt.title(\"Model Performance Comparison\")\n",
        "plt.ylabel(\"Improvement\")\n",
        "plt.xlabel(\"Metrics\")\n",
        "plt.axhline(0, color='red', linestyle='--')\n",
        "plt.show()\n"
      ],
      "metadata": {
        "colab": {
          "base_uri": "https://localhost:8080/",
          "height": 805
        },
        "id": "sbCdZs_bpwYh",
        "outputId": "bd79f572-2ba4-4619-b799-31e3962d7d2d"
      },
      "execution_count": 34,
      "outputs": [
        {
          "output_type": "stream",
          "name": "stderr",
          "text": [
            "<ipython-input-34-0c82fd82435a>:6: FutureWarning: \n",
            "\n",
            "Passing `palette` without assigning `hue` is deprecated and will be removed in v0.14.0. Assign the `x` variable to `hue` and set `legend=False` for the same effect.\n",
            "\n",
            "  sns.barplot(x=labels, y=values, palette='viridis')\n",
            "/usr/local/lib/python3.10/dist-packages/seaborn/_base.py:949: FutureWarning: When grouping with a length-1 list-like, you will need to pass a length-1 tuple to get_group in a future version of pandas. Pass `(name,)` instead of `name` to silence this warning.\n",
            "  data_subset = grouped_data.get_group(pd_key)\n",
            "/usr/local/lib/python3.10/dist-packages/seaborn/_base.py:949: FutureWarning: When grouping with a length-1 list-like, you will need to pass a length-1 tuple to get_group in a future version of pandas. Pass `(name,)` instead of `name` to silence this warning.\n",
            "  data_subset = grouped_data.get_group(pd_key)\n",
            "/usr/local/lib/python3.10/dist-packages/seaborn/_base.py:949: FutureWarning: When grouping with a length-1 list-like, you will need to pass a length-1 tuple to get_group in a future version of pandas. Pass `(name,)` instead of `name` to silence this warning.\n",
            "  data_subset = grouped_data.get_group(pd_key)\n",
            "/usr/local/lib/python3.10/dist-packages/seaborn/_base.py:949: FutureWarning: When grouping with a length-1 list-like, you will need to pass a length-1 tuple to get_group in a future version of pandas. Pass `(name,)` instead of `name` to silence this warning.\n",
            "  data_subset = grouped_data.get_group(pd_key)\n"
          ]
        },
        {
          "output_type": "display_data",
          "data": {
            "text/plain": [
              "<Figure size 1000x600 with 1 Axes>"
            ],
            "image/png": "[encoded data removed]"
          },
          "metadata": {}
        }
      ]
    },
    {
      "cell_type": "code",
      "source": [
        "# Part 10: Model Prediction on Test Data (Fine-tuned and Pretrained Model)\n",
        "# Select an example from the test dataset\n",
        "print(\"--- Test Example and Model Predictions ---\")\n",
        "review_text = test_dataset['text'][1]\n",
        "true_label = test_dataset['label'][1]\n",
        "print(f\"Review: {review_text}\")\n",
        "print(f\"True Label: {true_label} ({label_map[true_label]})\")\n",
        "\n",
        "# Tokenize the review\n",
        "inputs = tokenizer(review_text, return_tensors=\"pt\", padding=\"max_length\", truncation=True, max_length=512)\n",
        "\n",
        "# Move the inputs to the same device as the model\n",
        "inputs = {key: value.to(device) for key, value in inputs.items()}\n",
        "\n",
        "# --- Prediction using Pretrained Model ---\n",
        "print(\"\\n--- Pretrained Model Prediction ---\")\n",
        "pretrained_model.to(device)\n",
        "outputs_pretrained = pretrained_model(**inputs)\n",
        "predictions_pretrained = np.argmax(outputs_pretrained.logits.detach().cpu().numpy(), axis=1)\n",
        "predicted_label_pretrained = predictions_pretrained[0]\n",
        "predicted_category_pretrained = label_map.get(predicted_label_pretrained, \"Unknown\")\n",
        "\n",
        "# Print the pretrained model's prediction\n",
        "print(f\"Pretrained Model Predicted Label: {predicted_label_pretrained}\")\n",
        "print(f\"Pretrained Model Predicted Category: {predicted_category_pretrained}\")\n",
        "\n",
        "# --- Prediction using Fine-tuned Model ---\n",
        "print(\"\\n--- Fine-tuned Model Prediction ---\")\n",
        "model.to(device)  # Fine-tuned model is already loaded\n",
        "outputs_finetuned = model(**inputs)\n",
        "predictions_finetuned = np.argmax(outputs_finetuned.logits.detach().cpu().numpy(), axis=1)\n",
        "predicted_label_finetuned = predictions_finetuned[0]\n",
        "predicted_category_finetuned = label_map.get(predicted_label_finetuned, \"Unknown\")\n",
        "\n",
        "# Print the fine-tuned model's prediction\n",
        "print(f\"Fine-tuned Model Predicted Label: {predicted_label_finetuned}\")\n",
        "print(f\"Fine-tuned Model Predicted Category: {predicted_category_finetuned}\")"
      ],
      "metadata": {
        "colab": {
          "base_uri": "https://localhost:8080/"
        },
        "id": "99mSswJ_43jU",
        "outputId": "4743cbb5-5e14-47ab-9534-4c5ea6e548f9"
      },
      "execution_count": 36,
      "outputs": [
        {
          "output_type": "stream",
          "name": "stdout",
          "text": [
            "--- Test Example and Model Predictions ---\n",
            "Review: Dream Team most unpopular athletes in Olympics These Dream Team impostors are jeered in Athens bars by Americans, booed in the arena by Greeks and the rest of the world, despised back home by people fed up watching their selfish ways on TV. \n",
            "True Label: 1 (Sports)\n",
            "\n",
            "--- Pretrained Model Prediction ---\n",
            "Pretrained Model Predicted Label: 0\n",
            "Pretrained Model Predicted Category: World\n",
            "\n",
            "--- Fine-tuned Model Prediction ---\n",
            "Fine-tuned Model Predicted Label: 1\n",
            "Fine-tuned Model Predicted Category: Sports\n"
          ]
        }
      ]
    }
  ]
}